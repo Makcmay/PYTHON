{
 "cells": [
  {
   "attachments": {},
   "cell_type": "markdown",
   "metadata": {},
   "source": [
    "## Task 1\n",
    "### 1.1 Соедините два словаря в один\n"
   ]
  },
  {
   "cell_type": "code",
   "execution_count": 7,
   "metadata": {},
   "outputs": [
    {
     "ename": "ModuleNotFoundError",
     "evalue": "No module named 'pandas'",
     "output_type": "error",
     "traceback": [
      "\u001b[0;31m---------------------------------------------------------------------------\u001b[0m",
      "\u001b[0;31mModuleNotFoundError\u001b[0m                       Traceback (most recent call last)",
      "Cell \u001b[0;32mIn[7], line 1\u001b[0m\n\u001b[0;32m----> 1\u001b[0m \u001b[39mimport\u001b[39;00m \u001b[39mpandas\u001b[39;00m \u001b[39mas\u001b[39;00m \u001b[39mpd\u001b[39;00m\n",
      "\u001b[0;31mModuleNotFoundError\u001b[0m: No module named 'pandas'"
     ]
    }
   ],
   "source": [
    "import pandas as pd"
   ]
  },
  {
   "cell_type": "code",
   "execution_count": 2,
   "metadata": {},
   "outputs": [],
   "source": [
    "dict1 = {'One': 1, 'Two': 2, 'Three': 3}\n",
    "dict2 = {'Four': 4, 'Five': 5, 'Six': 6}\n"
   ]
  },
  {
   "cell_type": "code",
   "execution_count": 5,
   "metadata": {},
   "outputs": [
    {
     "ename": "NameError",
     "evalue": "name 'pd' is not defined",
     "output_type": "error",
     "traceback": [
      "\u001b[0;31m---------------------------------------------------------------------------\u001b[0m",
      "\u001b[0;31mNameError\u001b[0m                                 Traceback (most recent call last)",
      "Cell \u001b[0;32mIn[5], line 1\u001b[0m\n\u001b[0;32m----> 1\u001b[0m df4 \u001b[39m=\u001b[39m pd\u001b[39m.\u001b[39mconcat({dict1, dict2})\n\u001b[1;32m      2\u001b[0m \u001b[39mprint\u001b[39m(df4)\n",
      "\u001b[0;31mNameError\u001b[0m: name 'pd' is not defined"
     ]
    }
   ],
   "source": [
    "df4 = pd.concat({dict1, dict2})\n",
    "print(df4)"
   ]
  },
  {
   "cell_type": "code",
   "execution_count": 3,
   "metadata": {},
   "outputs": [
    {
     "name": "stdout",
     "output_type": "stream",
     "text": [
      "None\n",
      "{'One': 1, 'Two': 2, 'Three': 3, 'Four': 4, 'Five': 5, 'Six': 6}\n"
     ]
    }
   ],
   "source": [
    "print(dict1.update(dict2))\n",
    "print(dict1)"
   ]
  },
  {
   "cell_type": "code",
   "execution_count": null,
   "metadata": {},
   "outputs": [],
   "source": []
  },
  {
   "attachments": {},
   "cell_type": "markdown",
   "metadata": {},
   "source": [
    "### 1.2"
   ]
  },
  {
   "cell_type": "code",
   "execution_count": 9,
   "metadata": {},
   "outputs": [
    {
     "name": "stdout",
     "output_type": "stream",
     "text": [
      "{'One': 1, 'Two': 2, 'Three': 3, 'Four': 4, 'Five': 5, 'Six': 6}\n"
     ]
    }
   ],
   "source": [
    "def merge(dict1: dict, dict2: dict) -> dict:\n",
    "    dict1.update(dict2)\n",
    "    return dict1\n",
    "\n",
    "dict1 = {'One': 1, 'Two': 2, 'Three': 3}\n",
    "dict2 = {'Four': 4, 'Five': 5, 'Six': 6}\n",
    "\n",
    "print(merge(dict1, dict2))"
   ]
  },
  {
   "cell_type": "code",
   "execution_count": 8,
   "metadata": {},
   "outputs": [
    {
     "name": "stdout",
     "output_type": "stream",
     "text": [
      "{'One': 1, 'Two': 2, 'Three': 3, 'Four': 4, 'Five': 5, 'Six': 6}\n",
      "{'Four': 4, 'Five': 5, 'Six': 6}\n"
     ]
    }
   ],
   "source": [
    "print(dict1)\n",
    "print(dict2)"
   ]
  },
  {
   "attachments": {},
   "cell_type": "markdown",
   "metadata": {},
   "source": [
    "## Task 2\n",
    "### 2.1"
   ]
  },
  {
   "cell_type": "code",
   "execution_count": 12,
   "metadata": {},
   "outputs": [
    {
     "name": "stdout",
     "output_type": "stream",
     "text": [
      "{'One': 1, 'Two': 2, 'Three': 3}\n"
     ]
    }
   ],
   "source": [
    "def get_dict(keys: list, values: list) -> dict:\n",
    "    if len(keys) != len(values):\n",
    "        return None\n",
    "    res = dict()\n",
    "    for i in range(len(keys)):\n",
    "        res[keys[i]] = values[i]\n",
    "    return res\n",
    "\n",
    "keys = ['One', 'Two', 'Three']\n",
    "values = [1, 2, 3]\n",
    "res_dict = get_dict(keys, values)\n",
    "\n",
    "print(res_dict)"
   ]
  },
  {
   "attachments": {},
   "cell_type": "markdown",
   "metadata": {},
   "source": [
    "### 2.2"
   ]
  },
  {
   "cell_type": "code",
   "execution_count": 15,
   "metadata": {},
   "outputs": [
    {
     "name": "stdout",
     "output_type": "stream",
     "text": [
      "None\n"
     ]
    }
   ],
   "source": [
    "def get_dict2(keys: list, values: list) -> dict:\n",
    "    if len(keys) != len(values):\n",
    "        return None\n",
    "    return {keys[i]: values[i] for i in range(len(keys))}\n",
    "\n",
    "keys = ['One', 'Two', 'Three']\n",
    "values = [1, 2, 3]\n",
    "\n",
    "res_dict_2 = get_dict2(keys, values)\n",
    "\n",
    "print(res_dict_2)\n"
   ]
  },
  {
   "attachments": {},
   "cell_type": "markdown",
   "metadata": {},
   "source": [
    "### 2.3"
   ]
  },
  {
   "cell_type": "code",
   "execution_count": 27,
   "metadata": {},
   "outputs": [
    {
     "name": "stdout",
     "output_type": "stream",
     "text": [
      "{'One': 1, 'Two': 2}\n"
     ]
    }
   ],
   "source": [
    "def get_dict3(keys: list, values: list) -> dict:\n",
    "    return dict(zip(keys, values))\n",
    "\n",
    "keys = ['One', 'Two', 'Three']\n",
    "values = [1, 2, 3]\n",
    "\n",
    "res_dict_3 = get_dict3(keys, values)\n",
    "\n",
    "print(res_dict_3)"
   ]
  },
  {
   "attachments": {},
   "cell_type": "markdown",
   "metadata": {},
   "source": [
    "## Task3\n",
    "### 3.1"
   ]
  },
  {
   "cell_type": "code",
   "execution_count": 28,
   "metadata": {},
   "outputs": [
    {
     "name": "stdout",
     "output_type": "stream",
     "text": [
      "{'name': 'John', 'age': 25}\n",
      "{'city': 'Moscow'}\n"
     ]
    }
   ],
   "source": [
    "def get_key(dict1: dict, keys: list=['name', 'age']) -> dict:\n",
    "    res = dict()\n",
    "    for i in keys:\n",
    "        if i in dict1.keys():\n",
    "            res[i] = dict1[i]\n",
    "    return res\n",
    "\n",
    "\n",
    "\n",
    "client_dict = {\n",
    "\t\"name\": \"John\",\n",
    "\t\"age\": 25,\n",
    "\t\"salary\": 5000,\n",
    "\t\"city\": \"Moscow\"\n",
    "}\n",
    "\n",
    "print(get_key(client_dict))\n",
    "print(get_key(client_dict, ['city']))\n"
   ]
  },
  {
   "attachments": {},
   "cell_type": "markdown",
   "metadata": {},
   "source": [
    "### 3.2"
   ]
  },
  {
   "cell_type": "code",
   "execution_count": 29,
   "metadata": {},
   "outputs": [
    {
     "name": "stdout",
     "output_type": "stream",
     "text": [
      "{'name': 'John', 'age': 25}\n",
      "{'city': 'Moscow'}\n"
     ]
    }
   ],
   "source": [
    "def get_key(dict1: dict, keys: list=['name', 'age']) -> dict:\n",
    "    return {i: dict1[i] for i in keys if i in dict1.keys()}\n",
    "\n",
    "\n",
    "\n",
    "client_dict = {\n",
    "\t\"name\": \"John\",\n",
    "\t\"age\": 25,\n",
    "\t\"salary\": 5000,\n",
    "\t\"city\": \"Moscow\"\n",
    "}\n",
    "\n",
    "print(get_key(client_dict))\n",
    "print(get_key(client_dict, ['city']))\n"
   ]
  },
  {
   "cell_type": "code",
   "execution_count": 35,
   "metadata": {},
   "outputs": [
    {
     "name": "stdout",
     "output_type": "stream",
     "text": [
      "55 1\n",
      "Two 2\n",
      "Three 3\n"
     ]
    }
   ],
   "source": [
    "dict1 = {55: 1, 'Two': 2, 'Three': 3}\n",
    "for i in dict1:\n",
    "    print(i, dict1[i])\n"
   ]
  },
  {
   "attachments": {},
   "cell_type": "markdown",
   "metadata": {},
   "source": [
    "## Task 4"
   ]
  },
  {
   "cell_type": "code",
   "execution_count": 45,
   "metadata": {},
   "outputs": [
    {
     "name": "stdout",
     "output_type": "stream",
     "text": [
      "[29, 47, 48, 16, 24]\n"
     ]
    }
   ],
   "source": [
    "import random\n",
    "random.seed(8)\n",
    "\n",
    "list1 = [random.randint(0, 100) for i in range(5)]\n",
    "print(list1)"
   ]
  },
  {
   "cell_type": "markdown",
   "metadata": {},
   "source": [
    "## Task5\n",
    "## 5.1"
   ]
  },
  {
   "attachments": {},
   "cell_type": "markdown",
   "metadata": {},
   "source": [
    "<img src=https://webmg.ru/wp-content/uploads/2022/11/i-96-13.jpeg\n",
    "width = 500>"
   ]
  },
  {
   "attachments": {},
   "cell_type": "markdown",
   "metadata": {},
   "source": [
    "<table>\n",
    "    <tr>\n",
    "        <td></td>\n",
    "        <td>До события</td>\n",
    "        <td>Во время события</td>\n",
    "    </tr>\n",
    "    <tr>\n",
    "        <td>1 КТ</td>\n",
    "        <td>250 </td>\n",
    "        <td>500 </td>\n",
    "    </tr>\n",
    "    <tr>\n",
    "        <td>2 КТ</td>\n",
    "        <td>350 </td>\n",
    "        <td>700 </td>\n",
    "    </tr>\n",
    "    <tr>\n",
    "        <td>3 КТ</td>\n",
    "        <td>400 </td>\n",
    "        <td>800 </td>\n",
    "    </tr>\n",
    "    <tr>\n",
    "        <td>Итого за победу</td>\n",
    "        <td>1000 </td>\n",
    "        <td>2000 </td>\n",
    "    </tr>\n",
    "</table>"
   ]
  },
  {
   "cell_type": "markdown",
   "metadata": {},
   "source": [
    "## Task6"
   ]
  },
  {
   "cell_type": "code",
   "execution_count": 47,
   "metadata": {},
   "outputs": [
    {
     "name": "stdout",
     "output_type": "stream",
     "text": [
      "{'sum': 20, 'mean': 6.666666666666667}\n",
      "{'sum': 5, 'mean': 2.5}\n"
     ]
    }
   ],
   "source": [
    "def calc(*args):\n",
    "    sum_c = sum(args)\n",
    "    mean_c = sum_c / len(args)\n",
    "    return {'sum': sum_c,\n",
    "            'mean': mean_c}\n",
    "\n",
    "\n",
    "print(calc(5,7,8))\n",
    "print(calc(4,1))"
   ]
  },
  {
   "cell_type": "code",
   "execution_count": null,
   "metadata": {},
   "outputs": [],
   "source": []
  }
 ],
 "metadata": {
  "kernelspec": {
   "display_name": "Python 3",
   "language": "python",
   "name": "python3"
  },
  "language_info": {
   "codemirror_mode": {
    "name": "ipython",
    "version": 3
   },
   "file_extension": ".py",
   "mimetype": "text/x-python",
   "name": "python",
   "nbconvert_exporter": "python",
   "pygments_lexer": "ipython3",
   "version": "3.9.6"
  },
  "orig_nbformat": 4,
  "vscode": {
   "interpreter": {
    "hash": "86f65399b606217b0422ad4d60718a351e820c6c490ebf8e4ae3aa61b8797bcb"
   }
  }
 },
 "nbformat": 4,
 "nbformat_minor": 2
}
