{
 "cells": [
  {
   "cell_type": "code",
   "execution_count": 1,
   "id": "bc994fe6",
   "metadata": {},
   "outputs": [],
   "source": [
    "import requests\n",
    "import datetime\n",
    "import xmltodict"
   ]
  },
  {
   "cell_type": "code",
   "execution_count": 27,
   "id": "9462b38a",
   "metadata": {},
   "outputs": [],
   "source": [
    "\n",
    "def getHoroscope(x):\n",
    "    response = requests.get('http://img.ignio.com/r/export/utf/xml/daily/com.xml')\n",
    "    dict_data = xmltodict.parse(response.content)\n",
    "    value = dict_data['horo'][x][\"today\"]\n",
    "    value2 = dict_data['horo'][x][\"tomorrow\"]\n",
    "    return (f'Гороскоп для {x} на сегодня: {value}\\n'\n",
    "            f'Гороскоп для {x} на завтра: {value2}')\n",
    "   "
   ]
  },
  {
   "cell_type": "code",
   "execution_count": 28,
   "id": "ff063a1e",
   "metadata": {},
   "outputs": [
    {
     "data": {
      "text/plain": [
       "'Гороскоп для aries на сегодня: Сегодня ваши аппетиты могут оказаться несколько повышенными. Помните, много хорошо - тоже плохо. Если уж не можете не жадничать, постарайтесь, по крайней мере, не навредить собственному здоровью.\\nГороскоп для aries на завтра: Сегодня ваш творческий потенциал вырастет до такой степени, что просто перестанет в вас помещаться. Хольте его, лелейте, и не забывайте использовать на всю катушку.'"
      ]
     },
     "execution_count": 28,
     "metadata": {},
     "output_type": "execute_result"
    }
   ],
   "source": [
    "getHoroscope('aries')"
   ]
  },
  {
   "cell_type": "code",
   "execution_count": null,
   "id": "9286f414",
   "metadata": {},
   "outputs": [],
   "source": []
  }
 ],
 "metadata": {
  "kernelspec": {
   "display_name": "Python 3 (ipykernel)",
   "language": "python",
   "name": "python3"
  },
  "language_info": {
   "codemirror_mode": {
    "name": "ipython",
    "version": 3
   },
   "file_extension": ".py",
   "mimetype": "text/x-python",
   "name": "python",
   "nbconvert_exporter": "python",
   "pygments_lexer": "ipython3",
   "version": "3.9.13"
  }
 },
 "nbformat": 4,
 "nbformat_minor": 5
}
