{
 "cells": [
  {
   "cell_type": "code",
   "execution_count": null,
   "id": "c082844b",
   "metadata": {},
   "outputs": [],
   "source": []
  },
  {
   "cell_type": "code",
   "execution_count": 2,
   "id": "60af1a55",
   "metadata": {},
   "outputs": [],
   "source": [
    "import numpy as np\n",
    "from math import sqrt\n",
    "import matplotlib as plt\n",
    "from sympy import *"
   ]
  },
  {
   "cell_type": "markdown",
   "id": "063f75c8",
   "metadata": {},
   "source": [
    "текст"
   ]
  },
  {
   "cell_type": "code",
   "execution_count": 3,
   "id": "c5e102fc",
   "metadata": {},
   "outputs": [],
   "source": [
    "x = Symbol('x')"
   ]
  },
  {
   "cell_type": "code",
   "execution_count": 4,
   "id": "9711cf69",
   "metadata": {},
   "outputs": [],
   "source": [
    "y = 5 * x ** 2 + 10 * x - 30"
   ]
  },
  {
   "cell_type": "code",
   "execution_count": 5,
   "id": "9962828c",
   "metadata": {},
   "outputs": [],
   "source": [
    "roots = solve(y)"
   ]
  },
  {
   "cell_type": "code",
   "execution_count": 6,
   "id": "cba3adb5",
   "metadata": {},
   "outputs": [
    {
     "data": {
      "text/plain": [
       "[-1 + sqrt(7), -sqrt(7) - 1]"
      ]
     },
     "execution_count": 6,
     "metadata": {},
     "output_type": "execute_result"
    }
   ],
   "source": [
    "roots"
   ]
  },
  {
   "cell_type": "code",
   "execution_count": 7,
   "id": "87fd57ce",
   "metadata": {},
   "outputs": [],
   "source": [
    "df = diff(y)"
   ]
  },
  {
   "cell_type": "code",
   "execution_count": 8,
   "id": "5c5f190c",
   "metadata": {},
   "outputs": [
    {
     "data": {
      "text/latex": [
       "$\\displaystyle 10 x + 10$"
      ],
      "text/plain": [
       "10*x + 10"
      ]
     },
     "execution_count": 8,
     "metadata": {},
     "output_type": "execute_result"
    }
   ],
   "source": [
    "df"
   ]
  },
  {
   "cell_type": "code",
   "execution_count": 10,
   "id": "38f32dd5",
   "metadata": {},
   "outputs": [
    {
     "data": {
      "text/plain": [
       "-1.0"
      ]
     },
     "execution_count": 10,
     "metadata": {},
     "output_type": "execute_result"
    }
   ],
   "source": [
    "df_roots = solve(df)\n",
    "float(df_roots[0]) #, df_roots[1]) для одного корня"
   ]
  },
  {
   "cell_type": "code",
   "execution_count": 11,
   "id": "8cdbb7b9",
   "metadata": {},
   "outputs": [
    {
     "data": {
      "text/latex": [
       "$\\displaystyle -1 < x \\wedge x < \\infty$"
      ],
      "text/plain": [
       "(-1 < x) & (x < oo)"
      ]
     },
     "execution_count": 11,
     "metadata": {},
     "output_type": "execute_result"
    }
   ],
   "source": [
    "solve(df>0)"
   ]
  },
  {
   "cell_type": "code",
   "execution_count": 12,
   "id": "66b8305b",
   "metadata": {},
   "outputs": [
    {
     "data": {
      "text/latex": [
       "$\\displaystyle -\\infty < x \\wedge x < -1$"
      ],
      "text/plain": [
       "(-oo < x) & (x < -1)"
      ]
     },
     "execution_count": 12,
     "metadata": {},
     "output_type": "execute_result"
    }
   ],
   "source": [
    "solve(df<0)"
   ]
  },
  {
   "cell_type": "markdown",
   "id": "e747945f",
   "metadata": {},
   "source": [
    "**Интервалы возрастания и убывания функции**"
   ]
  },
  {
   "cell_type": "code",
   "execution_count": 14,
   "id": "95d4b5c3",
   "metadata": {},
   "outputs": [
    {
     "data": {
      "text/latex": [
       "$\\displaystyle \\left(-\\infty < x \\wedge x < - \\sqrt{7} - 1\\right) \\vee \\left(x < \\infty \\wedge -1 + \\sqrt{7} < x\\right)$"
      ],
      "text/plain": [
       "((x < oo) & (-1 + sqrt(7) < x)) | ((-oo < x) & (x < -sqrt(7) - 1))"
      ]
     },
     "execution_count": 14,
     "metadata": {},
     "output_type": "execute_result"
    }
   ],
   "source": [
    "solve(y>0)"
   ]
  },
  {
   "cell_type": "code",
   "execution_count": 15,
   "id": "23fb0d61",
   "metadata": {},
   "outputs": [
    {
     "data": {
      "text/latex": [
       "$\\displaystyle x < -1 + \\sqrt{7} \\wedge - \\sqrt{7} - 1 < x$"
      ],
      "text/plain": [
       "(x < -1 + sqrt(7)) & (-sqrt(7) - 1 < x)"
      ]
     },
     "execution_count": 15,
     "metadata": {},
     "output_type": "execute_result"
    }
   ],
   "source": [
    "solve(y<0)"
   ]
  },
  {
   "cell_type": "markdown",
   "id": "0abf6280",
   "metadata": {},
   "source": [
    "**Промежутки где фенкия больше и меньше нуля**"
   ]
  },
  {
   "cell_type": "code",
   "execution_count": null,
   "id": "2ee18d3f",
   "metadata": {},
   "outputs": [],
   "source": []
  }
 ],
 "metadata": {
  "kernelspec": {
   "display_name": "Python 3 (ipykernel)",
   "language": "python",
   "name": "python3"
  },
  "language_info": {
   "codemirror_mode": {
    "name": "ipython",
    "version": 3
   },
   "file_extension": ".py",
   "mimetype": "text/x-python",
   "name": "python",
   "nbconvert_exporter": "python",
   "pygments_lexer": "ipython3",
   "version": "3.9.13"
  }
 },
 "nbformat": 4,
 "nbformat_minor": 5
}
