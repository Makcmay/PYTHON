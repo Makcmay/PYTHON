{
 "cells": [
  {
   "cell_type": "code",
   "execution_count": 1,
   "id": "60af1a55",
   "metadata": {},
   "outputs": [],
   "source": [
    "import numpy as np\n",
    "import matplotlib.pyplot as plt\n",
    "import matplotlib as mpl\n",
    "from sympy import *"
   ]
  },
  {
   "cell_type": "markdown",
   "id": "063f75c8",
   "metadata": {},
   "source": [
    "## ДАНО:\n",
    "\n",
    "**f(x) = x^3 - 6x^2 + 4x + 12 (или 5x^3 - x^2 - 20x + 4)**\n",
    "\n",
    "**f(x) = -12x^4sin(cos(x)) - 18x^3+5x^2 + 10x - 30**\n",
    "\n",
    "## ЗАДАЧА:\n",
    "\n",
    "1.Определить корни\n",
    "\n",
    "2.Найти интервалы, на которых функция возрастает\n",
    "\n",
    "3.Найти интервалы, на которых функция убывает\n",
    "\n",
    "4.Построить график\n",
    "\n",
    "5.Вычислить вершину\n",
    "\n",
    "6.Определить промежутки, на котором f > 0\n",
    "\n",
    "7.Определить промежутки, на котором f < 0\n",
    "\n",
    "8.Оформить работу с заголовками в Markdown."
   ]
  },
  {
   "cell_type": "code",
   "execution_count": 2,
   "id": "c5e102fc",
   "metadata": {},
   "outputs": [],
   "source": [
    "x = Symbol('x')"
   ]
  },
  {
   "cell_type": "markdown",
   "id": "9aab641b",
   "metadata": {},
   "source": [
    "*Определяем Х как переменную функции f(x) = 5x^3 - x^2 - 20x + 4*"
   ]
  },
  {
   "cell_type": "code",
   "execution_count": 3,
   "id": "e55eb6e5",
   "metadata": {},
   "outputs": [],
   "source": [
    "y = 5*x**3 - x**2 - 20*x + 4"
   ]
  },
  {
   "cell_type": "markdown",
   "id": "442716c3",
   "metadata": {},
   "source": [
    "### 1. Определяем корни (sympy)"
   ]
  },
  {
   "cell_type": "code",
   "execution_count": 4,
   "id": "514293f9",
   "metadata": {},
   "outputs": [],
   "source": [
    "roots = solve(y)"
   ]
  },
  {
   "cell_type": "markdown",
   "id": "9bb117db",
   "metadata": {},
   "source": [
    "*три  корня*"
   ]
  },
  {
   "cell_type": "code",
   "execution_count": 5,
   "id": "24730606",
   "metadata": {},
   "outputs": [
    {
     "data": {
      "text/plain": [
       "[-2, 1/5, 2]"
      ]
     },
     "execution_count": 5,
     "metadata": {},
     "output_type": "execute_result"
    }
   ],
   "source": [
    "roots"
   ]
  },
  {
   "cell_type": "markdown",
   "id": "82c50f8a",
   "metadata": {},
   "source": [
    "*определяем точки максимума и минимума*\n"
   ]
  },
  {
   "cell_type": "code",
   "execution_count": 6,
   "id": "ded80cd7",
   "metadata": {},
   "outputs": [
    {
     "data": {
      "text/latex": [
       "$\\displaystyle 15 x^{2} - 2 x - 20$"
      ],
      "text/plain": [
       "15*x**2 - 2*x - 20"
      ]
     },
     "execution_count": 6,
     "metadata": {},
     "output_type": "execute_result"
    }
   ],
   "source": [
    "df = diff(y)\n",
    "df"
   ]
  },
  {
   "cell_type": "markdown",
   "id": "28749171",
   "metadata": {},
   "source": [
    "*Вычисляем максимум и минимум*"
   ]
  },
  {
   "cell_type": "code",
   "execution_count": 7,
   "id": "12c9fca1",
   "metadata": {},
   "outputs": [
    {
     "data": {
      "text/plain": [
       "(-1.0899567715264982, 1.2232901048598315)"
      ]
     },
     "execution_count": 7,
     "metadata": {},
     "output_type": "execute_result"
    }
   ],
   "source": [
    "df_roots = solve(df)\n",
    "float(df_roots[0]), float(df_roots[1])"
   ]
  },
  {
   "cell_type": "markdown",
   "id": "6dfbd788",
   "metadata": {},
   "source": [
    "### 2. Определяем интервал возрастания"
   ]
  },
  {
   "cell_type": "code",
   "execution_count": 8,
   "id": "0e61388c",
   "metadata": {},
   "outputs": [
    {
     "data": {
      "text/latex": [
       "$\\displaystyle \\left(-\\infty < x \\wedge x < \\frac{1}{15} - \\frac{\\sqrt{301}}{15}\\right) \\vee \\left(x < \\infty \\wedge \\frac{1}{15} + \\frac{\\sqrt{301}}{15} < x\\right)$"
      ],
      "text/plain": [
       "((-oo < x) & (x < 1/15 - sqrt(301)/15)) | ((x < oo) & (1/15 + sqrt(301)/15 < x))"
      ]
     },
     "execution_count": 8,
     "metadata": {},
     "output_type": "execute_result"
    }
   ],
   "source": [
    "solve(df>0)"
   ]
  },
  {
   "cell_type": "markdown",
   "id": "90f23742",
   "metadata": {},
   "source": [
    "### 3. Определяем интервал убывания"
   ]
  },
  {
   "cell_type": "code",
   "execution_count": 9,
   "id": "767ca1e0",
   "metadata": {},
   "outputs": [
    {
     "data": {
      "text/latex": [
       "$\\displaystyle x < \\frac{1}{15} + \\frac{\\sqrt{301}}{15} \\wedge \\frac{1}{15} - \\frac{\\sqrt{301}}{15} < x$"
      ],
      "text/plain": [
       "(x < 1/15 + sqrt(301)/15) & (1/15 - sqrt(301)/15 < x)"
      ]
     },
     "execution_count": 9,
     "metadata": {},
     "output_type": "execute_result"
    }
   ],
   "source": [
    "solve(df<0)"
   ]
  },
  {
   "cell_type": "markdown",
   "id": "fd6e6255",
   "metadata": {},
   "source": [
    "### 4. Строим график"
   ]
  },
  {
   "cell_type": "code",
   "execution_count": 10,
   "id": "2b944a56",
   "metadata": {},
   "outputs": [
    {
     "data": {
      "image/png": "[encoded data removed]",
      "text/plain": [
       "<Figure size 640x480 with 1 Axes>"
      ]
     },
     "metadata": {},
     "output_type": "display_data"
    }
   ],
   "source": [
    "x = list(range(-4, 4))\n",
    "fx = [5*i**3 - i**2 - 20*i + 4 for i in x]\n",
    "\n",
    "fig, ax = plt.subplots()\n",
    "plt.title(\"Graphic: f(x) = 5x^3 - x^2 - 20x + 4\")\n",
    "\n",
    "ax.spines[[\"left\", \"bottom\"]].set_position((\"data\", 0))\n",
    "ax.spines[[\"top\", \"right\"]].set_visible(False)\n",
    "\n",
    "ax.plot(1, 0, \">k\", transform=ax.get_yaxis_transform(), clip_on=False)\n",
    "ax.plot(0, 1, \"^k\", transform=ax.get_xaxis_transform(), clip_on=False)\n",
    "\n",
    "ax.plot(x,fx)\n",
    "plt.show()"
   ]
  },
  {
   "cell_type": "markdown",
   "id": "f7c8a44f",
   "metadata": {},
   "source": [
    "### 5. Вычисляем вершину (numpy)"
   ]
  },
  {
   "cell_type": "code",
   "execution_count": 11,
   "id": "37640476",
   "metadata": {},
   "outputs": [
    {
     "data": {
      "text/plain": [
       "array([ 15,  -2, -20])"
      ]
     },
     "execution_count": 11,
     "metadata": {},
     "output_type": "execute_result"
    }
   ],
   "source": [
    "np.polyder([5, -1, -20, 4])"
   ]
  },
  {
   "cell_type": "markdown",
   "id": "a99f78f5",
   "metadata": {},
   "source": [
    "*определяем максимум и минимум Х*"
   ]
  },
  {
   "cell_type": "code",
   "execution_count": 12,
   "id": "50b84d36",
   "metadata": {},
   "outputs": [
    {
     "data": {
      "text/plain": [
       "(-1.0899567715264984, 1.2232901048598313)"
      ]
     },
     "execution_count": 12,
     "metadata": {},
     "output_type": "execute_result"
    }
   ],
   "source": [
    "max_x, min_x = np.roots(np.polyder([5, -1, -20, 4]))[1], np.roots(np.polyder([5, -1, -20, 4]))[0]\n",
    "max_x, min_x"
   ]
  },
  {
   "cell_type": "markdown",
   "id": "c36781ef",
   "metadata": {},
   "source": [
    "*np.polyval() - определяем значение функции при определенном значении X*"
   ]
  },
  {
   "cell_type": "code",
   "execution_count": 13,
   "id": "06cf69b6",
   "metadata": {},
   "outputs": [
    {
     "data": {
      "text/plain": [
       "(18.136755032421153, -12.809347625013743)"
      ]
     },
     "execution_count": 13,
     "metadata": {},
     "output_type": "execute_result"
    }
   ],
   "source": [
    "max_y, min_y = np.polyval([5, -1, -20, 4], max_x),np.polyval([5, -1, -20, 4], min_x)\n",
    "max_y, min_y"
   ]
  },
  {
   "cell_type": "code",
   "execution_count": 14,
   "id": "b67dcd96",
   "metadata": {},
   "outputs": [
    {
     "name": "stdout",
     "output_type": "stream",
     "text": [
      "Точка максимум (-1.0899567715264984, 18.136755032421153)\n",
      "Точка минимум (1.2232901048598313, -12.809347625013743)\n"
     ]
    }
   ],
   "source": [
    "print(f'Точка максимум {max_x, max_y}')\n",
    "print(f'Точка минимум {min_x, min_y}')"
   ]
  },
  {
   "cell_type": "markdown",
   "id": "f3cbe25c",
   "metadata": {},
   "source": [
    "### 6. Определием промежутки, на которых f > 0"
   ]
  },
  {
   "cell_type": "code",
   "execution_count": 15,
   "id": "22a7b57d",
   "metadata": {},
   "outputs": [
    {
     "data": {
      "text/latex": [
       "$\\displaystyle \\left(-2 < x \\wedge x < \\frac{1}{5}\\right) \\vee \\left(2 < x \\wedge x < \\infty\\right)$"
      ],
      "text/plain": [
       "((-2 < x) & (x < 1/5)) | ((2 < x) & (x < oo))"
      ]
     },
     "execution_count": 15,
     "metadata": {},
     "output_type": "execute_result"
    }
   ],
   "source": [
    "solve(y>0)"
   ]
  },
  {
   "cell_type": "markdown",
   "id": "549431b2",
   "metadata": {},
   "source": [
    "*Определяем интервал возрастания¶*"
   ]
  },
  {
   "cell_type": "code",
   "execution_count": 16,
   "id": "b123f199",
   "metadata": {},
   "outputs": [
    {
     "name": "stdout",
     "output_type": "stream",
     "text": [
      "Функция возрастает: (-inf; (-1.0899567715264984, 18.136755032421153)] & [(1.2232901048598313, -12.809347625013743); +inf)\n"
     ]
    }
   ],
   "source": [
    "print(f'Функция возрастает: (-inf; {max_x, max_y}] & [{min_x, min_y}; +inf)')"
   ]
  },
  {
   "cell_type": "markdown",
   "id": "c4f54df6",
   "metadata": {},
   "source": [
    "### 7. Определием промежутки, на которых f <0"
   ]
  },
  {
   "cell_type": "code",
   "execution_count": 17,
   "id": "4b426fa0",
   "metadata": {},
   "outputs": [
    {
     "data": {
      "text/latex": [
       "$\\displaystyle \\left(-\\infty < x \\wedge x < -2\\right) \\vee \\left(\\frac{1}{5} < x \\wedge x < 2\\right)$"
      ],
      "text/plain": [
       "((-oo < x) & (x < -2)) | ((1/5 < x) & (x < 2))"
      ]
     },
     "execution_count": 17,
     "metadata": {},
     "output_type": "execute_result"
    }
   ],
   "source": [
    "solve(y<0)"
   ]
  },
  {
   "cell_type": "markdown",
   "id": "e0d18606",
   "metadata": {},
   "source": [
    "*Определяем интервал убывания*"
   ]
  },
  {
   "cell_type": "code",
   "execution_count": 18,
   "id": "2a0f2fd7",
   "metadata": {},
   "outputs": [
    {
     "name": "stdout",
     "output_type": "stream",
     "text": [
      "Функция убывает: ((-1.0899567715264984, 18.136755032421153); (1.2232901048598313, -12.809347625013743))\n"
     ]
    }
   ],
   "source": [
    "print(f'Функция убывает: ({max_x, max_y}; {min_x, min_y})')"
   ]
  },
  {
   "cell_type": "markdown",
   "id": "f27c4588",
   "metadata": {},
   "source": [
    "## ДАНО:\n",
    "\n",
    "**f(x) = x^3 - 6x^2 + 4x + 12**"
   ]
  },
  {
   "cell_type": "code",
   "execution_count": 19,
   "id": "3b9bab48",
   "metadata": {},
   "outputs": [],
   "source": [
    "x = Symbol('x')"
   ]
  },
  {
   "cell_type": "code",
   "execution_count": 20,
   "id": "799e2f4f",
   "metadata": {},
   "outputs": [],
   "source": [
    "y = 1*x**3 - 6*x**2 + 4*x + 12"
   ]
  },
  {
   "cell_type": "markdown",
   "id": "b8675d06",
   "metadata": {},
   "source": [
    "### Определяем корни и округляем"
   ]
  },
  {
   "cell_type": "code",
   "execution_count": 21,
   "id": "edb5c416",
   "metadata": {},
   "outputs": [],
   "source": [
    "x1, x2, x3 = round(np.roots([1, -6, 4, 12])[0], 3), round(np.roots([1, -6, 4, 12])[1], 3), round(np.roots([1, -6, 4, 12])[2], 3)"
   ]
  },
  {
   "cell_type": "code",
   "execution_count": 22,
   "id": "3fad7f2a",
   "metadata": {},
   "outputs": [
    {
     "name": "stdout",
     "output_type": "stream",
     "text": [
      " Корни: 4.534, 2.517, -1.051\n"
     ]
    }
   ],
   "source": [
    "print(f' Корни: {x1}, {x2}, {x3}')"
   ]
  },
  {
   "cell_type": "markdown",
   "id": "e6ce067a",
   "metadata": {},
   "source": [
    "### Определить промежутки, на котором f > 0 и f < 0"
   ]
  },
  {
   "cell_type": "code",
   "execution_count": 23,
   "id": "ab1e0349",
   "metadata": {},
   "outputs": [
    {
     "name": "stdout",
     "output_type": "stream",
     "text": [
      "Функция больше нуля: (-1.051; 2.517 & -1.051; +inf)\n",
      "Функция меньше нуля: (-inf; -1.051 & 2.517; 4.534)\n"
     ]
    }
   ],
   "source": [
    "print(f'Функция больше нуля: ({x3}; {x2} & {x3}; +inf)')\n",
    "print(f'Функция меньше нуля: (-inf; {x3} & {x2}; {x1})')"
   ]
  },
  {
   "cell_type": "code",
   "execution_count": 24,
   "id": "bc4315cd",
   "metadata": {},
   "outputs": [
    {
     "data": {
      "text/latex": [
       "$\\displaystyle \\left(x < \\infty \\wedge \\operatorname{CRootOf} {\\left(x^{3} - 6 x^{2} + 4 x + 12, 2\\right)} < x\\right) \\vee \\left(x < \\operatorname{CRootOf} {\\left(x^{3} - 6 x^{2} + 4 x + 12, 1\\right)} \\wedge \\operatorname{CRootOf} {\\left(x^{3} - 6 x^{2} + 4 x + 12, 0\\right)} < x\\right)$"
      ],
      "text/plain": [
       "((x < oo) & (CRootOf(x**3 - 6*x**2 + 4*x + 12, 2) < x)) | ((x < CRootOf(x**3 - 6*x**2 + 4*x + 12, 1)) & (CRootOf(x**3 - 6*x**2 + 4*x + 12, 0) < x))"
      ]
     },
     "execution_count": 24,
     "metadata": {},
     "output_type": "execute_result"
    }
   ],
   "source": [
    "solve(y>0)"
   ]
  },
  {
   "cell_type": "code",
   "execution_count": 25,
   "id": "80befac0",
   "metadata": {},
   "outputs": [
    {
     "data": {
      "text/latex": [
       "$\\displaystyle \\left(-\\infty < x \\wedge x < \\operatorname{CRootOf} {\\left(x^{3} - 6 x^{2} + 4 x + 12, 0\\right)}\\right) \\vee \\left(x < \\operatorname{CRootOf} {\\left(x^{3} - 6 x^{2} + 4 x + 12, 2\\right)} \\wedge \\operatorname{CRootOf} {\\left(x^{3} - 6 x^{2} + 4 x + 12, 1\\right)} < x\\right)$"
      ],
      "text/plain": [
       "((-oo < x) & (x < CRootOf(x**3 - 6*x**2 + 4*x + 12, 0))) | ((x < CRootOf(x**3 - 6*x**2 + 4*x + 12, 2)) & (CRootOf(x**3 - 6*x**2 + 4*x + 12, 1) < x))"
      ]
     },
     "execution_count": 25,
     "metadata": {},
     "output_type": "execute_result"
    }
   ],
   "source": [
    "solve(y<0)"
   ]
  },
  {
   "cell_type": "markdown",
   "id": "f449347d",
   "metadata": {},
   "source": [
    "### Определяем вершину"
   ]
  },
  {
   "cell_type": "code",
   "execution_count": 26,
   "id": "85ad836b",
   "metadata": {},
   "outputs": [],
   "source": [
    "max_x, min_x = round(np.roots(np.polyder([1, -6, 4, 12]))[1], 3),  round(np.roots(np.polyder([1, -6, 4, 12]))[0], 3)"
   ]
  },
  {
   "cell_type": "code",
   "execution_count": 27,
   "id": "d0f082ca",
   "metadata": {},
   "outputs": [],
   "source": [
    "max_y, min_y = round(np.polyval([1, -6, 4, 12], max_x), 3), round(np.polyval([1, -6, 4, 12], min_x), 3)"
   ]
  },
  {
   "cell_type": "code",
   "execution_count": 28,
   "id": "d322426c",
   "metadata": {},
   "outputs": [
    {
     "name": "stdout",
     "output_type": "stream",
     "text": [
      "Точка максимум (0.367, 12.709)\n",
      "Точка минимум (3.633, -4.709)\n"
     ]
    }
   ],
   "source": [
    "print(f'Точка максимум {max_x, max_y}')\n",
    "print(f'Точка минимум {min_x, min_y}')"
   ]
  },
  {
   "cell_type": "code",
   "execution_count": 29,
   "id": "7f67b872",
   "metadata": {},
   "outputs": [
    {
     "data": {
      "image/png": "[encoded data removed]",
      "text/plain": [
       "<Figure size 640x480 with 1 Axes>"
      ]
     },
     "metadata": {},
     "output_type": "display_data"
    }
   ],
   "source": [
    "x = list(range(-4, 7))\n",
    "fx = [i**3 - 6*i**2 + 4*i + 12 for i in x]\n",
    "\n",
    "fig, ax = plt.subplots()\n",
    "plt.title(\"Graphic: f(x) = x^3 - 6x^2 + 4x + 12\")\n",
    "\n",
    "ax.spines[[\"left\", \"bottom\"]].set_position((\"data\", 0))\n",
    "ax.spines[[\"top\", \"right\"]].set_visible(False)\n",
    "\n",
    "ax.plot(1, 0, \">k\", transform=ax.get_yaxis_transform(), clip_on=False)\n",
    "ax.plot(0, 1, \"^k\", transform=ax.get_xaxis_transform(), clip_on=False)\n",
    "\n",
    "ax.plot(x,fx)\n",
    "plt.show()"
   ]
  },
  {
   "cell_type": "markdown",
   "id": "5d0429b2",
   "metadata": {},
   "source": [
    "### Определяем интервалы возрастания и убывания"
   ]
  },
  {
   "cell_type": "code",
   "execution_count": 30,
   "id": "67658d64",
   "metadata": {},
   "outputs": [
    {
     "name": "stdout",
     "output_type": "stream",
     "text": [
      "Функция возрастает: (-inf; (0.367, 12.709)] & [(3.633, -4.709); +inf)\n",
      "Функция убывает: ((0.367, 12.709); (3.633, -4.709))\n"
     ]
    }
   ],
   "source": [
    "print(f'Функция возрастает: (-inf; {max_x, max_y}] & [{min_x, min_y}; +inf)')\n",
    "print(f'Функция убывает: ({max_x, max_y}; {min_x, min_y})')"
   ]
  },
  {
   "cell_type": "code",
   "execution_count": 31,
   "id": "a6d24119",
   "metadata": {},
   "outputs": [
    {
     "data": {
      "text/latex": [
       "$\\displaystyle \\left(-\\infty < x \\wedge x < 2 - \\frac{2 \\sqrt{6}}{3}\\right) \\vee \\left(x < \\infty \\wedge \\frac{2 \\sqrt{6}}{3} + 2 < x\\right)$"
      ],
      "text/plain": [
       "((-oo < x) & (x < 2 - 2*sqrt(6)/3)) | ((x < oo) & (2*sqrt(6)/3 + 2 < x))"
      ]
     },
     "execution_count": 31,
     "metadata": {},
     "output_type": "execute_result"
    }
   ],
   "source": [
    "df = diff(y)\n",
    "solve(df>0)"
   ]
  },
  {
   "cell_type": "code",
   "execution_count": 32,
   "id": "082c36ae",
   "metadata": {},
   "outputs": [
    {
     "data": {
      "text/latex": [
       "$\\displaystyle x < \\frac{2 \\sqrt{6}}{3} + 2 \\wedge 2 - \\frac{2 \\sqrt{6}}{3} < x$"
      ],
      "text/plain": [
       "(x < 2*sqrt(6)/3 + 2) & (2 - 2*sqrt(6)/3 < x)"
      ]
     },
     "execution_count": 32,
     "metadata": {},
     "output_type": "execute_result"
    }
   ],
   "source": [
    "solve(df<0)"
   ]
  },
  {
   "cell_type": "markdown",
   "id": "b50934ea",
   "metadata": {},
   "source": [
    "## ДАНО f(x) = -12x^4sin(cos(x)) - 18x^3+5x^2 + 10x - 30"
   ]
  },
  {
   "cell_type": "code",
   "execution_count": 33,
   "id": "dc57284a",
   "metadata": {},
   "outputs": [],
   "source": [
    "import sympy"
   ]
  },
  {
   "cell_type": "code",
   "execution_count": 34,
   "id": "028af134",
   "metadata": {},
   "outputs": [],
   "source": [
    "x = Symbol('x')"
   ]
  },
  {
   "cell_type": "code",
   "execution_count": 35,
   "id": "2390f65f",
   "metadata": {},
   "outputs": [],
   "source": [
    "y = ((- 12)*sympy.sin(sympy.cos(x)))*x**4 - 18*(x**3) + 5*(x**2) + 10*x - 30"
   ]
  },
  {
   "cell_type": "code",
   "execution_count": 36,
   "id": "e829cdfe",
   "metadata": {},
   "outputs": [
    {
     "data": {
      "text/latex": [
       "$\\displaystyle \\left\\{x\\; \\middle|\\; x \\in \\mathbb{R} \\wedge - 12 x^{4} \\sin{\\left(\\cos{\\left(x \\right)} \\right)} - 18 x^{3} + 5 x^{2} + 10 x - 30 = 0 \\right\\}$"
      ],
      "text/plain": [
       "ConditionSet(x, Eq(-12*x**4*sin(cos(x)) - 18*x**3 + 5*x**2 + 10*x - 30, 0), Reals)"
      ]
     },
     "execution_count": 36,
     "metadata": {},
     "output_type": "execute_result"
    }
   ],
   "source": [
    "solveset(((- 12)*sympy.sin(sympy.cos(x))*x**4 - 18*(x**3) + 5*(x**2) + 10*x - 30), x, domain=S.Reals)"
   ]
  },
  {
   "cell_type": "code",
   "execution_count": 37,
   "id": "9d20475e",
   "metadata": {},
   "outputs": [
    {
     "data": {
      "image/png": "[encoded data removed]",
      "text/plain": [
       "<Figure size 640x480 with 1 Axes>"
      ]
     },
     "metadata": {},
     "output_type": "display_data"
    },
    {
     "data": {
      "text/plain": [
       "<sympy.plotting.plot.Plot at 0x16bc4229610>"
      ]
     },
     "execution_count": 37,
     "metadata": {},
     "output_type": "execute_result"
    }
   ],
   "source": [
    "sympy.plotting.plot(((- 12)*sympy.sin(sympy.cos(x))*x**4 - 18*(x**3) + 5*(x**2) + 10*x - 30), (x, -50, 50))"
   ]
  },
  {
   "cell_type": "code",
   "execution_count": 38,
   "id": "c12a1223",
   "metadata": {},
   "outputs": [
    {
     "data": {
      "image/png": "[encoded data removed]",
      "text/plain": [
       "<Figure size 640x480 with 1 Axes>"
      ]
     },
     "metadata": {},
     "output_type": "display_data"
    }
   ],
   "source": [
    "x = list(range(-70, 70))\n",
    "fx = [- 12*sympy.sin(sympy.cos(i))*i**4 - 18*i**3 + 5*i**2 + 10*i - 30 for i in x]\n",
    "\n",
    "fig, ax = plt.subplots()\n",
    "plt.title(\"Graphic: f(x) = -12x^4sin(cos(x)) - 18x^3+5x^2 + 10x - 30\")\n",
    "\n",
    "ax.spines[[\"left\", \"bottom\"]].set_position((\"data\", 0))\n",
    "ax.spines[[\"top\", \"right\"]].set_visible(False)\n",
    "\n",
    "ax.plot(1, 0, \">k\", transform=ax.get_yaxis_transform(), clip_on=False)\n",
    "ax.plot(0, 1, \"^k\", transform=ax.get_xaxis_transform(), clip_on=False)\n",
    "\n",
    "ax.plot(x,fx)\n",
    "plt.show()"
   ]
  },
  {
   "cell_type": "code",
   "execution_count": null,
   "id": "a5e7059b",
   "metadata": {},
   "outputs": [],
   "source": []
  }
 ],
 "metadata": {
  "kernelspec": {
   "display_name": "Python 3 (ipykernel)",
   "language": "python",
   "name": "python3"
  },
  "language_info": {
   "codemirror_mode": {
    "name": "ipython",
    "version": 3
   },
   "file_extension": ".py",
   "mimetype": "text/x-python",
   "name": "python",
   "nbconvert_exporter": "python",
   "pygments_lexer": "ipython3",
   "version": "3.9.13"
  }
 },
 "nbformat": 4,
 "nbformat_minor": 5
}
